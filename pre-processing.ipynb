{
 "cells": [
  {
   "cell_type": "code",
   "execution_count": 84,
   "metadata": {},
   "outputs": [],
   "source": [
    "import pandas as pd\n",
    "import nltk\n",
    "from nltk.stem import PorterStemmer\n",
    "import numpy as np"
   ]
  },
  {
   "cell_type": "code",
   "execution_count": 85,
   "metadata": {},
   "outputs": [],
   "source": [
    "# nltk.download('punkt')\n",
    "# nltk.download('stopwords')"
   ]
  },
  {
   "cell_type": "markdown",
   "metadata": {},
   "source": [
    "Read the Data"
   ]
  },
  {
   "cell_type": "code",
   "execution_count": 86,
   "metadata": {},
   "outputs": [
    {
     "data": {
      "text/html": [
       "<div>\n",
       "<style scoped>\n",
       "    .dataframe tbody tr th:only-of-type {\n",
       "        vertical-align: middle;\n",
       "    }\n",
       "\n",
       "    .dataframe tbody tr th {\n",
       "        vertical-align: top;\n",
       "    }\n",
       "\n",
       "    .dataframe thead th {\n",
       "        text-align: right;\n",
       "    }\n",
       "</style>\n",
       "<table border=\"1\" class=\"dataframe\">\n",
       "  <thead>\n",
       "    <tr style=\"text-align: right;\">\n",
       "      <th></th>\n",
       "      <th>id</th>\n",
       "      <th>sentiment</th>\n",
       "      <th>sentence</th>\n",
       "    </tr>\n",
       "  </thead>\n",
       "  <tbody>\n",
       "    <tr>\n",
       "      <th>0</th>\n",
       "      <td>260097528899452929</td>\n",
       "      <td>neutral</td>\n",
       "      <td>Won the match #getin . Plus\\u002c tomorrow is ...</td>\n",
       "    </tr>\n",
       "    <tr>\n",
       "      <th>1</th>\n",
       "      <td>263791921753882624</td>\n",
       "      <td>neutral</td>\n",
       "      <td>Some areas of New England could see the first ...</td>\n",
       "    </tr>\n",
       "    <tr>\n",
       "      <th>2</th>\n",
       "      <td>264194578381410304</td>\n",
       "      <td>negative</td>\n",
       "      <td>@francesco_con40 2nd worst QB. DEFINITELY Tony...</td>\n",
       "    </tr>\n",
       "    <tr>\n",
       "      <th>3</th>\n",
       "      <td>264041328420204544</td>\n",
       "      <td>neutral</td>\n",
       "      <td>#Thailand Washington - US President Barack Oba...</td>\n",
       "    </tr>\n",
       "    <tr>\n",
       "      <th>4</th>\n",
       "      <td>263816256640126976</td>\n",
       "      <td>neutral</td>\n",
       "      <td>Did y\\u2019all hear what Tony Romo dressed up ...</td>\n",
       "    </tr>\n",
       "  </tbody>\n",
       "</table>\n",
       "</div>"
      ],
      "text/plain": [
       "                   id sentiment  \\\n",
       "0  260097528899452929   neutral   \n",
       "1  263791921753882624   neutral   \n",
       "2  264194578381410304  negative   \n",
       "3  264041328420204544   neutral   \n",
       "4  263816256640126976   neutral   \n",
       "\n",
       "                                            sentence  \n",
       "0  Won the match #getin . Plus\\u002c tomorrow is ...  \n",
       "1  Some areas of New England could see the first ...  \n",
       "2  @francesco_con40 2nd worst QB. DEFINITELY Tony...  \n",
       "3  #Thailand Washington - US President Barack Oba...  \n",
       "4  Did y\\u2019all hear what Tony Romo dressed up ...  "
      ]
     },
     "execution_count": 86,
     "metadata": {},
     "output_type": "execute_result"
    }
   ],
   "source": [
    "twitter_2013dev_a = pd.read_csv('dataset/twitter-2013dev-A.txt', delimiter=\"\\t\", names=[\"id\", \"sentiment\", \"sentence\"])\n",
    "twitter_2013test_a = pd.read_csv('dataset/twitter-2013test-A.txt', delimiter=\"\\t\", names=[\"id\", \"sentiment\", \"sentence\"])\n",
    "twitter_2013train_a = pd.read_csv('dataset/twitter-2013train-A.txt', delimiter=\"\\t\", names=[\"id\", \"sentiment\", \"sentence\"])\n",
    "twitter_2014sarcasm_a = pd.read_csv('dataset/twitter-2014sarcasm-A.txt', delimiter=\"\\t\", names=[\"id\", \"sentiment\", \"sentence\"])\n",
    "twitter_2014test_a = pd.read_csv('dataset/twitter-2014test-A.txt', delimiter=\"\\t\", names=[\"id\", \"sentiment\", \"sentence\"])\n",
    "twitter_2015test_a = pd.read_csv('dataset/twitter-2015test-A.txt', delimiter=\"\\t\", names=[\"id\", \"sentiment\", \"sentence\"])\n",
    "twitter_2015train_a = pd.read_csv('dataset/twitter-2015train-A.txt', delimiter=\"\\t\", names=[\"id\", \"sentiment\", \"sentence\"])\n",
    "twitter_2016dev_a = pd.read_csv('dataset/twitter-2016dev-A.txt', delimiter=\"\\t\", names=[\"id\", \"sentiment\", \"sentence\"])\n",
    "twitter_2016devtest_a = pd.read_csv('dataset/twitter-2016devtest-A.txt', delimiter=\"\\t\", names=[\"id\", \"sentiment\", \"sentence\"])\n",
    "twitter_2016test_a = pd.read_csv('dataset/twitter-2016test-A.txt', delimiter=\"\\t\", names=[\"id\", \"sentiment\", \"sentence\", \"dates\"])\n",
    "twitter_2016train_a = pd.read_csv('dataset/twitter-2016train-A.txt', delimiter=\"\\t\", names=[\"id\", \"sentiment\", \"sentence\"])\n",
    "\n",
    "data_df = pd.DataFrame()\n",
    "# data_df = pd.concat([twitter_2013dev_a, twitter_2013test_a, twitter_2013train_a, twitter_2014sarcasm_a, twitter_2014test_a,\n",
    "#                      twitter_2015test_a, twitter_2015train_a, twitter_2016dev_a, twitter_2016devtest_a,\n",
    "#                      twitter_2016test_a[[\"id\", \"sentiment\", \"sentence\"]], twitter_2016train_a])\n",
    "\n",
    "data_df = pd.concat([twitter_2013dev_a, twitter_2013test_a])\n",
    "data_df.head()"
   ]
  },
  {
   "cell_type": "markdown",
   "metadata": {},
   "source": [
    "Check for null values on the data"
   ]
  },
  {
   "cell_type": "code",
   "execution_count": 87,
   "metadata": {},
   "outputs": [
    {
     "name": "stdout",
     "output_type": "stream",
     "text": [
      "<class 'pandas.core.frame.DataFrame'>\n",
      "Index: 5201 entries, 0 to 3546\n",
      "Data columns (total 3 columns):\n",
      " #   Column     Non-Null Count  Dtype \n",
      "---  ------     --------------  ----- \n",
      " 0   id         5201 non-null   int64 \n",
      " 1   sentiment  5201 non-null   object\n",
      " 2   sentence   5201 non-null   object\n",
      "dtypes: int64(1), object(2)\n",
      "memory usage: 162.5+ KB\n"
     ]
    }
   ],
   "source": [
    "data_df.info()"
   ]
  },
  {
   "cell_type": "code",
   "execution_count": 88,
   "metadata": {},
   "outputs": [
    {
     "data": {
      "text/plain": [
       "False"
      ]
     },
     "execution_count": 88,
     "metadata": {},
     "output_type": "execute_result"
    }
   ],
   "source": [
    "data_df.isnull().values.any()"
   ]
  },
  {
   "cell_type": "markdown",
   "metadata": {},
   "source": [
    "Drop the ID column and reset the indexes"
   ]
  },
  {
   "cell_type": "code",
   "execution_count": 89,
   "metadata": {},
   "outputs": [
    {
     "data": {
      "text/html": [
       "<div>\n",
       "<style scoped>\n",
       "    .dataframe tbody tr th:only-of-type {\n",
       "        vertical-align: middle;\n",
       "    }\n",
       "\n",
       "    .dataframe tbody tr th {\n",
       "        vertical-align: top;\n",
       "    }\n",
       "\n",
       "    .dataframe thead th {\n",
       "        text-align: right;\n",
       "    }\n",
       "</style>\n",
       "<table border=\"1\" class=\"dataframe\">\n",
       "  <thead>\n",
       "    <tr style=\"text-align: right;\">\n",
       "      <th></th>\n",
       "      <th>sentiment</th>\n",
       "      <th>sentence</th>\n",
       "    </tr>\n",
       "  </thead>\n",
       "  <tbody>\n",
       "    <tr>\n",
       "      <th>0</th>\n",
       "      <td>neutral</td>\n",
       "      <td>Won the match #getin . Plus\\u002c tomorrow is ...</td>\n",
       "    </tr>\n",
       "    <tr>\n",
       "      <th>1</th>\n",
       "      <td>neutral</td>\n",
       "      <td>Some areas of New England could see the first ...</td>\n",
       "    </tr>\n",
       "    <tr>\n",
       "      <th>2</th>\n",
       "      <td>negative</td>\n",
       "      <td>@francesco_con40 2nd worst QB. DEFINITELY Tony...</td>\n",
       "    </tr>\n",
       "    <tr>\n",
       "      <th>3</th>\n",
       "      <td>neutral</td>\n",
       "      <td>#Thailand Washington - US President Barack Oba...</td>\n",
       "    </tr>\n",
       "    <tr>\n",
       "      <th>4</th>\n",
       "      <td>neutral</td>\n",
       "      <td>Did y\\u2019all hear what Tony Romo dressed up ...</td>\n",
       "    </tr>\n",
       "  </tbody>\n",
       "</table>\n",
       "</div>"
      ],
      "text/plain": [
       "  sentiment                                           sentence\n",
       "0   neutral  Won the match #getin . Plus\\u002c tomorrow is ...\n",
       "1   neutral  Some areas of New England could see the first ...\n",
       "2  negative  @francesco_con40 2nd worst QB. DEFINITELY Tony...\n",
       "3   neutral  #Thailand Washington - US President Barack Oba...\n",
       "4   neutral  Did y\\u2019all hear what Tony Romo dressed up ..."
      ]
     },
     "execution_count": 89,
     "metadata": {},
     "output_type": "execute_result"
    }
   ],
   "source": [
    "data_df.drop(\"id\", axis=1, inplace=True)\n",
    "data_df.reset_index(inplace=True, drop=True)\n",
    "data_df.head()"
   ]
  },
  {
   "cell_type": "code",
   "execution_count": 90,
   "metadata": {},
   "outputs": [],
   "source": [
    "def remove_irr_char(sentence):\n",
    "    \"\"\"\n",
    "        This function removes irrelevant characters such as punctuations and etc.\n",
    "        Accepts a string sentence\n",
    "        Returns a string cleaned sentence\n",
    "    \"\"\"\n",
    "    word_list = []\n",
    "    tokenized_sent = nltk.word_tokenize(sentence)\n",
    "    for i in tokenized_sent:\n",
    "        word_list.append(''.join(j for j in i if i.isalnum()))\n",
    "\n",
    "    word_list = list(filter(None,  word_list))\n",
    "\n",
    "    return ' '.join(word_list)"
   ]
  },
  {
   "cell_type": "code",
   "execution_count": 91,
   "metadata": {},
   "outputs": [
    {
     "data": {
      "text/html": [
       "<div>\n",
       "<style scoped>\n",
       "    .dataframe tbody tr th:only-of-type {\n",
       "        vertical-align: middle;\n",
       "    }\n",
       "\n",
       "    .dataframe tbody tr th {\n",
       "        vertical-align: top;\n",
       "    }\n",
       "\n",
       "    .dataframe thead th {\n",
       "        text-align: right;\n",
       "    }\n",
       "</style>\n",
       "<table border=\"1\" class=\"dataframe\">\n",
       "  <thead>\n",
       "    <tr style=\"text-align: right;\">\n",
       "      <th></th>\n",
       "      <th>sentiment</th>\n",
       "      <th>sentence</th>\n",
       "      <th>cleaned_sentence</th>\n",
       "    </tr>\n",
       "  </thead>\n",
       "  <tbody>\n",
       "    <tr>\n",
       "      <th>0</th>\n",
       "      <td>neutral</td>\n",
       "      <td>Won the match #getin . Plus\\u002c tomorrow is ...</td>\n",
       "      <td>Won the match getin tomorrow is a very busy wi...</td>\n",
       "    </tr>\n",
       "    <tr>\n",
       "      <th>1</th>\n",
       "      <td>neutral</td>\n",
       "      <td>Some areas of New England could see the first ...</td>\n",
       "      <td>Some areas of New England could see the first ...</td>\n",
       "    </tr>\n",
       "    <tr>\n",
       "      <th>2</th>\n",
       "      <td>negative</td>\n",
       "      <td>@francesco_con40 2nd worst QB. DEFINITELY Tony...</td>\n",
       "      <td>2nd worst QB DEFINITELY Tony Romo The man who ...</td>\n",
       "    </tr>\n",
       "    <tr>\n",
       "      <th>3</th>\n",
       "      <td>neutral</td>\n",
       "      <td>#Thailand Washington - US President Barack Oba...</td>\n",
       "      <td>Thailand Washington US President Barack Obama ...</td>\n",
       "    </tr>\n",
       "    <tr>\n",
       "      <th>4</th>\n",
       "      <td>neutral</td>\n",
       "      <td>Did y\\u2019all hear what Tony Romo dressed up ...</td>\n",
       "      <td>Did hear what Tony Romo dressed up as for Hall...</td>\n",
       "    </tr>\n",
       "  </tbody>\n",
       "</table>\n",
       "</div>"
      ],
      "text/plain": [
       "  sentiment                                           sentence  \\\n",
       "0   neutral  Won the match #getin . Plus\\u002c tomorrow is ...   \n",
       "1   neutral  Some areas of New England could see the first ...   \n",
       "2  negative  @francesco_con40 2nd worst QB. DEFINITELY Tony...   \n",
       "3   neutral  #Thailand Washington - US President Barack Oba...   \n",
       "4   neutral  Did y\\u2019all hear what Tony Romo dressed up ...   \n",
       "\n",
       "                                    cleaned_sentence  \n",
       "0  Won the match getin tomorrow is a very busy wi...  \n",
       "1  Some areas of New England could see the first ...  \n",
       "2  2nd worst QB DEFINITELY Tony Romo The man who ...  \n",
       "3  Thailand Washington US President Barack Obama ...  \n",
       "4  Did hear what Tony Romo dressed up as for Hall...  "
      ]
     },
     "execution_count": 91,
     "metadata": {},
     "output_type": "execute_result"
    }
   ],
   "source": [
    "data_df[\"cleaned_sentence\"] = data_df.apply(lambda x: remove_irr_char(x[1]), axis=1)\n",
    "data_df.head()"
   ]
  },
  {
   "cell_type": "code",
   "execution_count": 92,
   "metadata": {},
   "outputs": [],
   "source": [
    "def remove_stop_words(sentence):\n",
    "    \"\"\"\n",
    "        This function removes stop words from the cleaned sentence\n",
    "        Accepts a string\n",
    "        Returns a string without the stop words\n",
    "    \"\"\"\n",
    "    tokenized = nltk.word_tokenize(sentence)\n",
    "    stop_words = set({\"a\", \"about\", \"an\", \"are\", \"as\", \"at\", \"be\", \"by\", \"com\", \"de\", \"en\", \"for\", \"from\", \"how\", \"i\", \"in\",\n",
    "                      \"is\", \"it\", \"la\", \"of\", \"on\", \"or\", \"that\", \"this\", \"to\", \"was\", \"what\", \"when\", \"where\", \"who\", \"will\",\n",
    "                      \"with\", \"und\", \"the\", \"www\"})\n",
    "\n",
    "    filtered_list = [\n",
    "        word for word in tokenized if word.casefold() not in stop_words\n",
    "    ]\n",
    "\n",
    "    return ' '.join(filtered_list)"
   ]
  },
  {
   "cell_type": "code",
   "execution_count": 93,
   "metadata": {},
   "outputs": [
    {
     "data": {
      "text/html": [
       "<div>\n",
       "<style scoped>\n",
       "    .dataframe tbody tr th:only-of-type {\n",
       "        vertical-align: middle;\n",
       "    }\n",
       "\n",
       "    .dataframe tbody tr th {\n",
       "        vertical-align: top;\n",
       "    }\n",
       "\n",
       "    .dataframe thead th {\n",
       "        text-align: right;\n",
       "    }\n",
       "</style>\n",
       "<table border=\"1\" class=\"dataframe\">\n",
       "  <thead>\n",
       "    <tr style=\"text-align: right;\">\n",
       "      <th></th>\n",
       "      <th>sentiment</th>\n",
       "      <th>sentence</th>\n",
       "      <th>cleaned_sentence</th>\n",
       "      <th>stopwords_remove_sentence</th>\n",
       "    </tr>\n",
       "  </thead>\n",
       "  <tbody>\n",
       "    <tr>\n",
       "      <th>0</th>\n",
       "      <td>neutral</td>\n",
       "      <td>Won the match #getin . Plus\\u002c tomorrow is ...</td>\n",
       "      <td>Won the match getin tomorrow is a very busy wi...</td>\n",
       "      <td>Won match getin tomorrow very busy Awareness a...</td>\n",
       "    </tr>\n",
       "    <tr>\n",
       "      <th>1</th>\n",
       "      <td>neutral</td>\n",
       "      <td>Some areas of New England could see the first ...</td>\n",
       "      <td>Some areas of New England could see the first ...</td>\n",
       "      <td>Some areas New England could see first flakes ...</td>\n",
       "    </tr>\n",
       "    <tr>\n",
       "      <th>2</th>\n",
       "      <td>negative</td>\n",
       "      <td>@francesco_con40 2nd worst QB. DEFINITELY Tony...</td>\n",
       "      <td>2nd worst QB DEFINITELY Tony Romo The man who ...</td>\n",
       "      <td>2nd worst QB DEFINITELY Tony Romo man likes sh...</td>\n",
       "    </tr>\n",
       "    <tr>\n",
       "      <th>3</th>\n",
       "      <td>neutral</td>\n",
       "      <td>#Thailand Washington - US President Barack Oba...</td>\n",
       "      <td>Thailand Washington US President Barack Obama ...</td>\n",
       "      <td>Thailand Washington US President Barack Obama ...</td>\n",
       "    </tr>\n",
       "    <tr>\n",
       "      <th>4</th>\n",
       "      <td>neutral</td>\n",
       "      <td>Did y\\u2019all hear what Tony Romo dressed up ...</td>\n",
       "      <td>Did hear what Tony Romo dressed up as for Hall...</td>\n",
       "      <td>Did hear Tony Romo dressed up Halloween Giants...</td>\n",
       "    </tr>\n",
       "  </tbody>\n",
       "</table>\n",
       "</div>"
      ],
      "text/plain": [
       "  sentiment                                           sentence  \\\n",
       "0   neutral  Won the match #getin . Plus\\u002c tomorrow is ...   \n",
       "1   neutral  Some areas of New England could see the first ...   \n",
       "2  negative  @francesco_con40 2nd worst QB. DEFINITELY Tony...   \n",
       "3   neutral  #Thailand Washington - US President Barack Oba...   \n",
       "4   neutral  Did y\\u2019all hear what Tony Romo dressed up ...   \n",
       "\n",
       "                                    cleaned_sentence  \\\n",
       "0  Won the match getin tomorrow is a very busy wi...   \n",
       "1  Some areas of New England could see the first ...   \n",
       "2  2nd worst QB DEFINITELY Tony Romo The man who ...   \n",
       "3  Thailand Washington US President Barack Obama ...   \n",
       "4  Did hear what Tony Romo dressed up as for Hall...   \n",
       "\n",
       "                           stopwords_remove_sentence  \n",
       "0  Won match getin tomorrow very busy Awareness a...  \n",
       "1  Some areas New England could see first flakes ...  \n",
       "2  2nd worst QB DEFINITELY Tony Romo man likes sh...  \n",
       "3  Thailand Washington US President Barack Obama ...  \n",
       "4  Did hear Tony Romo dressed up Halloween Giants...  "
      ]
     },
     "execution_count": 93,
     "metadata": {},
     "output_type": "execute_result"
    }
   ],
   "source": [
    "data_df[\"stopwords_remove_sentence\"] = data_df.apply(lambda x: remove_stop_words(x[2]), axis=1)\n",
    "data_df.head()"
   ]
  },
  {
   "cell_type": "code",
   "execution_count": 94,
   "metadata": {},
   "outputs": [],
   "source": [
    "stemmer = PorterStemmer()\n",
    "\n",
    "def stem_tokens(sentence):\n",
    "    \"\"\"\n",
    "        This function stems the sentence to convert each tokens to their root base\n",
    "        Accepts a string\n",
    "        Returns a string sentence in their root base\n",
    "    \"\"\"\n",
    "    word_list = []\n",
    "    tokenized_sent = nltk.word_tokenize(sentence)\n",
    "    for i in tokenized_sent:\n",
    "        stem_word = stemmer.stem(i)\n",
    "        word_list.append(stem_word)\n",
    "\n",
    "    return ' '.join(word_list)"
   ]
  },
  {
   "cell_type": "code",
   "execution_count": 95,
   "metadata": {},
   "outputs": [
    {
     "data": {
      "text/html": [
       "<div>\n",
       "<style scoped>\n",
       "    .dataframe tbody tr th:only-of-type {\n",
       "        vertical-align: middle;\n",
       "    }\n",
       "\n",
       "    .dataframe tbody tr th {\n",
       "        vertical-align: top;\n",
       "    }\n",
       "\n",
       "    .dataframe thead th {\n",
       "        text-align: right;\n",
       "    }\n",
       "</style>\n",
       "<table border=\"1\" class=\"dataframe\">\n",
       "  <thead>\n",
       "    <tr style=\"text-align: right;\">\n",
       "      <th></th>\n",
       "      <th>sentiment</th>\n",
       "      <th>sentence</th>\n",
       "      <th>cleaned_sentence</th>\n",
       "      <th>stopwords_remove_sentence</th>\n",
       "      <th>stemmed_sentence</th>\n",
       "    </tr>\n",
       "  </thead>\n",
       "  <tbody>\n",
       "    <tr>\n",
       "      <th>0</th>\n",
       "      <td>neutral</td>\n",
       "      <td>Won the match #getin . Plus\\u002c tomorrow is ...</td>\n",
       "      <td>Won the match getin tomorrow is a very busy wi...</td>\n",
       "      <td>Won match getin tomorrow very busy Awareness a...</td>\n",
       "      <td>won match getin tomorrow veri busi awar and de...</td>\n",
       "    </tr>\n",
       "    <tr>\n",
       "      <th>1</th>\n",
       "      <td>neutral</td>\n",
       "      <td>Some areas of New England could see the first ...</td>\n",
       "      <td>Some areas of New England could see the first ...</td>\n",
       "      <td>Some areas New England could see first flakes ...</td>\n",
       "      <td>some area new england could see first flake se...</td>\n",
       "    </tr>\n",
       "    <tr>\n",
       "      <th>2</th>\n",
       "      <td>negative</td>\n",
       "      <td>@francesco_con40 2nd worst QB. DEFINITELY Tony...</td>\n",
       "      <td>2nd worst QB DEFINITELY Tony Romo The man who ...</td>\n",
       "      <td>2nd worst QB DEFINITELY Tony Romo man likes sh...</td>\n",
       "      <td>2nd worst qb definit toni romo man like share ...</td>\n",
       "    </tr>\n",
       "    <tr>\n",
       "      <th>3</th>\n",
       "      <td>neutral</td>\n",
       "      <td>#Thailand Washington - US President Barack Oba...</td>\n",
       "      <td>Thailand Washington US President Barack Obama ...</td>\n",
       "      <td>Thailand Washington US President Barack Obama ...</td>\n",
       "      <td>thailand washington us presid barack obama vow...</td>\n",
       "    </tr>\n",
       "    <tr>\n",
       "      <th>4</th>\n",
       "      <td>neutral</td>\n",
       "      <td>Did y\\u2019all hear what Tony Romo dressed up ...</td>\n",
       "      <td>Did hear what Tony Romo dressed up as for Hall...</td>\n",
       "      <td>Did hear Tony Romo dressed up Halloween Giants...</td>\n",
       "      <td>did hear toni romo dress up halloween giant qu...</td>\n",
       "    </tr>\n",
       "  </tbody>\n",
       "</table>\n",
       "</div>"
      ],
      "text/plain": [
       "  sentiment                                           sentence  \\\n",
       "0   neutral  Won the match #getin . Plus\\u002c tomorrow is ...   \n",
       "1   neutral  Some areas of New England could see the first ...   \n",
       "2  negative  @francesco_con40 2nd worst QB. DEFINITELY Tony...   \n",
       "3   neutral  #Thailand Washington - US President Barack Oba...   \n",
       "4   neutral  Did y\\u2019all hear what Tony Romo dressed up ...   \n",
       "\n",
       "                                    cleaned_sentence  \\\n",
       "0  Won the match getin tomorrow is a very busy wi...   \n",
       "1  Some areas of New England could see the first ...   \n",
       "2  2nd worst QB DEFINITELY Tony Romo The man who ...   \n",
       "3  Thailand Washington US President Barack Obama ...   \n",
       "4  Did hear what Tony Romo dressed up as for Hall...   \n",
       "\n",
       "                           stopwords_remove_sentence  \\\n",
       "0  Won match getin tomorrow very busy Awareness a...   \n",
       "1  Some areas New England could see first flakes ...   \n",
       "2  2nd worst QB DEFINITELY Tony Romo man likes sh...   \n",
       "3  Thailand Washington US President Barack Obama ...   \n",
       "4  Did hear Tony Romo dressed up Halloween Giants...   \n",
       "\n",
       "                                    stemmed_sentence  \n",
       "0  won match getin tomorrow veri busi awar and de...  \n",
       "1  some area new england could see first flake se...  \n",
       "2  2nd worst qb definit toni romo man like share ...  \n",
       "3  thailand washington us presid barack obama vow...  \n",
       "4  did hear toni romo dress up halloween giant qu...  "
      ]
     },
     "execution_count": 95,
     "metadata": {},
     "output_type": "execute_result"
    }
   ],
   "source": [
    "data_df[\"stemmed_sentence\"] = data_df.apply(lambda x: stem_tokens(x[3]), axis=1)\n",
    "data_df.head()"
   ]
  },
  {
   "cell_type": "markdown",
   "metadata": {},
   "source": [
    "Let us check for the value distribution of the sentiment in our data"
   ]
  },
  {
   "cell_type": "code",
   "execution_count": 96,
   "metadata": {},
   "outputs": [
    {
     "data": {
      "text/plain": [
       "sentiment\n",
       "neutral     2252\n",
       "positive    2050\n",
       "negative     899\n",
       "Name: count, dtype: int64"
      ]
     },
     "execution_count": 96,
     "metadata": {},
     "output_type": "execute_result"
    }
   ],
   "source": [
    "data_df[\"sentiment\"].value_counts()"
   ]
  },
  {
   "cell_type": "markdown",
   "metadata": {},
   "source": [
    "Let us convert the sentiment column to numerical (1 = Positive, 0 = Neutral, -1 = Negative)"
   ]
  },
  {
   "cell_type": "code",
   "execution_count": 97,
   "metadata": {},
   "outputs": [],
   "source": [
    "data_df[\"sentiment\"] = np.where((data_df[\"sentiment\"] == \"positive\"), +1, data_df[\"sentiment\"])\n",
    "data_df[\"sentiment\"] = np.where((data_df[\"sentiment\"] == \"negative\"), -1, data_df[\"sentiment\"])\n",
    "data_df[\"sentiment\"] = np.where((data_df[\"sentiment\"] == \"neutral\"), 0, data_df[\"sentiment\"])"
   ]
  },
  {
   "cell_type": "code",
   "execution_count": 98,
   "metadata": {},
   "outputs": [
    {
     "data": {
      "text/plain": [
       "sentiment\n",
       "0     2252\n",
       "1     2050\n",
       "-1     899\n",
       "Name: count, dtype: int64"
      ]
     },
     "execution_count": 98,
     "metadata": {},
     "output_type": "execute_result"
    }
   ],
   "source": [
    "data_df[\"sentiment\"].value_counts()"
   ]
  },
  {
   "cell_type": "markdown",
   "metadata": {},
   "source": [
    "Final cleaned data"
   ]
  },
  {
   "cell_type": "code",
   "execution_count": 99,
   "metadata": {},
   "outputs": [
    {
     "data": {
      "text/html": [
       "<div>\n",
       "<style scoped>\n",
       "    .dataframe tbody tr th:only-of-type {\n",
       "        vertical-align: middle;\n",
       "    }\n",
       "\n",
       "    .dataframe tbody tr th {\n",
       "        vertical-align: top;\n",
       "    }\n",
       "\n",
       "    .dataframe thead th {\n",
       "        text-align: right;\n",
       "    }\n",
       "</style>\n",
       "<table border=\"1\" class=\"dataframe\">\n",
       "  <thead>\n",
       "    <tr style=\"text-align: right;\">\n",
       "      <th></th>\n",
       "      <th>sentiment</th>\n",
       "      <th>sentence</th>\n",
       "      <th>cleaned_sentence</th>\n",
       "      <th>stopwords_remove_sentence</th>\n",
       "      <th>stemmed_sentence</th>\n",
       "    </tr>\n",
       "  </thead>\n",
       "  <tbody>\n",
       "    <tr>\n",
       "      <th>0</th>\n",
       "      <td>0</td>\n",
       "      <td>Won the match #getin . Plus\\u002c tomorrow is ...</td>\n",
       "      <td>Won the match getin tomorrow is a very busy wi...</td>\n",
       "      <td>Won match getin tomorrow very busy Awareness a...</td>\n",
       "      <td>won match getin tomorrow veri busi awar and de...</td>\n",
       "    </tr>\n",
       "    <tr>\n",
       "      <th>1</th>\n",
       "      <td>0</td>\n",
       "      <td>Some areas of New England could see the first ...</td>\n",
       "      <td>Some areas of New England could see the first ...</td>\n",
       "      <td>Some areas New England could see first flakes ...</td>\n",
       "      <td>some area new england could see first flake se...</td>\n",
       "    </tr>\n",
       "    <tr>\n",
       "      <th>2</th>\n",
       "      <td>-1</td>\n",
       "      <td>@francesco_con40 2nd worst QB. DEFINITELY Tony...</td>\n",
       "      <td>2nd worst QB DEFINITELY Tony Romo The man who ...</td>\n",
       "      <td>2nd worst QB DEFINITELY Tony Romo man likes sh...</td>\n",
       "      <td>2nd worst qb definit toni romo man like share ...</td>\n",
       "    </tr>\n",
       "    <tr>\n",
       "      <th>3</th>\n",
       "      <td>0</td>\n",
       "      <td>#Thailand Washington - US President Barack Oba...</td>\n",
       "      <td>Thailand Washington US President Barack Obama ...</td>\n",
       "      <td>Thailand Washington US President Barack Obama ...</td>\n",
       "      <td>thailand washington us presid barack obama vow...</td>\n",
       "    </tr>\n",
       "    <tr>\n",
       "      <th>4</th>\n",
       "      <td>0</td>\n",
       "      <td>Did y\\u2019all hear what Tony Romo dressed up ...</td>\n",
       "      <td>Did hear what Tony Romo dressed up as for Hall...</td>\n",
       "      <td>Did hear Tony Romo dressed up Halloween Giants...</td>\n",
       "      <td>did hear toni romo dress up halloween giant qu...</td>\n",
       "    </tr>\n",
       "  </tbody>\n",
       "</table>\n",
       "</div>"
      ],
      "text/plain": [
       "  sentiment                                           sentence  \\\n",
       "0         0  Won the match #getin . Plus\\u002c tomorrow is ...   \n",
       "1         0  Some areas of New England could see the first ...   \n",
       "2        -1  @francesco_con40 2nd worst QB. DEFINITELY Tony...   \n",
       "3         0  #Thailand Washington - US President Barack Oba...   \n",
       "4         0  Did y\\u2019all hear what Tony Romo dressed up ...   \n",
       "\n",
       "                                    cleaned_sentence  \\\n",
       "0  Won the match getin tomorrow is a very busy wi...   \n",
       "1  Some areas of New England could see the first ...   \n",
       "2  2nd worst QB DEFINITELY Tony Romo The man who ...   \n",
       "3  Thailand Washington US President Barack Obama ...   \n",
       "4  Did hear what Tony Romo dressed up as for Hall...   \n",
       "\n",
       "                           stopwords_remove_sentence  \\\n",
       "0  Won match getin tomorrow very busy Awareness a...   \n",
       "1  Some areas New England could see first flakes ...   \n",
       "2  2nd worst QB DEFINITELY Tony Romo man likes sh...   \n",
       "3  Thailand Washington US President Barack Obama ...   \n",
       "4  Did hear Tony Romo dressed up Halloween Giants...   \n",
       "\n",
       "                                    stemmed_sentence  \n",
       "0  won match getin tomorrow veri busi awar and de...  \n",
       "1  some area new england could see first flake se...  \n",
       "2  2nd worst qb definit toni romo man like share ...  \n",
       "3  thailand washington us presid barack obama vow...  \n",
       "4  did hear toni romo dress up halloween giant qu...  "
      ]
     },
     "execution_count": 99,
     "metadata": {},
     "output_type": "execute_result"
    }
   ],
   "source": [
    "data_df.head()"
   ]
  },
  {
   "cell_type": "markdown",
   "metadata": {},
   "source": [
    "### Logistic Regression Model without feature engineering using  CountVectorizer"
   ]
  },
  {
   "cell_type": "code",
   "execution_count": 100,
   "metadata": {},
   "outputs": [
    {
     "data": {
      "text/html": [
       "<div>\n",
       "<style scoped>\n",
       "    .dataframe tbody tr th:only-of-type {\n",
       "        vertical-align: middle;\n",
       "    }\n",
       "\n",
       "    .dataframe tbody tr th {\n",
       "        vertical-align: top;\n",
       "    }\n",
       "\n",
       "    .dataframe thead th {\n",
       "        text-align: right;\n",
       "    }\n",
       "</style>\n",
       "<table border=\"1\" class=\"dataframe\">\n",
       "  <thead>\n",
       "    <tr style=\"text-align: right;\">\n",
       "      <th></th>\n",
       "      <th>sentiment</th>\n",
       "      <th>stemmed_sentence</th>\n",
       "    </tr>\n",
       "  </thead>\n",
       "  <tbody>\n",
       "    <tr>\n",
       "      <th>0</th>\n",
       "      <td>0</td>\n",
       "      <td>won match getin tomorrow veri busi awar and de...</td>\n",
       "    </tr>\n",
       "    <tr>\n",
       "      <th>1</th>\n",
       "      <td>0</td>\n",
       "      <td>some area new england could see first flake se...</td>\n",
       "    </tr>\n",
       "    <tr>\n",
       "      <th>2</th>\n",
       "      <td>-1</td>\n",
       "      <td>2nd worst qb definit toni romo man like share ...</td>\n",
       "    </tr>\n",
       "    <tr>\n",
       "      <th>3</th>\n",
       "      <td>0</td>\n",
       "      <td>thailand washington us presid barack obama vow...</td>\n",
       "    </tr>\n",
       "    <tr>\n",
       "      <th>4</th>\n",
       "      <td>0</td>\n",
       "      <td>did hear toni romo dress up halloween giant qu...</td>\n",
       "    </tr>\n",
       "  </tbody>\n",
       "</table>\n",
       "</div>"
      ],
      "text/plain": [
       "  sentiment                                   stemmed_sentence\n",
       "0         0  won match getin tomorrow veri busi awar and de...\n",
       "1         0  some area new england could see first flake se...\n",
       "2        -1  2nd worst qb definit toni romo man like share ...\n",
       "3         0  thailand washington us presid barack obama vow...\n",
       "4         0  did hear toni romo dress up halloween giant qu..."
      ]
     },
     "execution_count": 100,
     "metadata": {},
     "output_type": "execute_result"
    }
   ],
   "source": [
    "data_mod = data_df[[\"sentiment\", \"stemmed_sentence\"]]\n",
    "data_mod.head()"
   ]
  },
  {
   "cell_type": "code",
   "execution_count": 101,
   "metadata": {},
   "outputs": [],
   "source": [
    "from sklearn.feature_extraction.text import CountVectorizer"
   ]
  },
  {
   "cell_type": "code",
   "execution_count": 102,
   "metadata": {},
   "outputs": [],
   "source": [
    "vectorizer_count = CountVectorizer(\n",
    "    analyzer = 'word',\n",
    "    lowercase = False,\n",
    "    min_df = 3\n",
    ")\n",
    "\n",
    "features = vectorizer_count.fit_transform(\n",
    "    data_mod[\"stemmed_sentence\"]\n",
    ")\n",
    "\n",
    "features_nd = features.toarray()"
   ]
  },
  {
   "cell_type": "code",
   "execution_count": 103,
   "metadata": {},
   "outputs": [],
   "source": [
    "data_labels = []\n",
    "for i in data_mod[\"sentiment\"]:\n",
    "    data_labels.append(i)"
   ]
  },
  {
   "cell_type": "code",
   "execution_count": 104,
   "metadata": {},
   "outputs": [],
   "source": [
    "from sklearn.model_selection import train_test_split\n",
    "\n",
    "X_train_cv, X_test_cv, y_train_cv, y_test_cv  = train_test_split(\n",
    "        features_nd, \n",
    "        data_labels,\n",
    "        train_size=0.80, \n",
    "        random_state=10)"
   ]
  },
  {
   "cell_type": "code",
   "execution_count": 105,
   "metadata": {},
   "outputs": [],
   "source": [
    "from sklearn.linear_model import LogisticRegression\n",
    "log_model_1 =  LogisticRegression()"
   ]
  },
  {
   "cell_type": "code",
   "execution_count": 106,
   "metadata": {},
   "outputs": [
    {
     "name": "stderr",
     "output_type": "stream",
     "text": [
      "c:\\Training\\Project_NLP\\project_env2\\lib\\site-packages\\sklearn\\linear_model\\_logistic.py:460: ConvergenceWarning: lbfgs failed to converge (status=1):\n",
      "STOP: TOTAL NO. of ITERATIONS REACHED LIMIT.\n",
      "\n",
      "Increase the number of iterations (max_iter) or scale the data as shown in:\n",
      "    https://scikit-learn.org/stable/modules/preprocessing.html\n",
      "Please also refer to the documentation for alternative solver options:\n",
      "    https://scikit-learn.org/stable/modules/linear_model.html#logistic-regression\n",
      "  n_iter_i = _check_optimize_result(\n"
     ]
    }
   ],
   "source": [
    "log_model_1 = log_model_1.fit(X_train_cv, y_train_cv)"
   ]
  },
  {
   "cell_type": "code",
   "execution_count": 107,
   "metadata": {},
   "outputs": [],
   "source": [
    "y_pred_cv = log_model_1.predict(X_test_cv)"
   ]
  },
  {
   "cell_type": "code",
   "execution_count": 108,
   "metadata": {},
   "outputs": [
    {
     "name": "stdout",
     "output_type": "stream",
     "text": [
      "0.6195965417867435\n"
     ]
    }
   ],
   "source": [
    "from sklearn.metrics import accuracy_score, classification_report\n",
    "print(accuracy_score(y_test_cv, y_pred_cv))"
   ]
  },
  {
   "cell_type": "markdown",
   "metadata": {},
   "source": [
    "### Logistic Regression Model without feature engineering using TFIDF Vectorizer"
   ]
  },
  {
   "cell_type": "code",
   "execution_count": 109,
   "metadata": {},
   "outputs": [],
   "source": [
    "from sklearn.feature_extraction.text import TfidfVectorizer"
   ]
  },
  {
   "cell_type": "code",
   "execution_count": 110,
   "metadata": {},
   "outputs": [],
   "source": [
    "vectorizer_tfidf = TfidfVectorizer(min_df=3)\n",
    "\n",
    "features2 = vectorizer_tfidf.fit_transform(data_mod[\"stemmed_sentence\"])\n",
    "\n",
    "features_nd2 = features2.toarray()\n"
   ]
  },
  {
   "cell_type": "code",
   "execution_count": 111,
   "metadata": {},
   "outputs": [],
   "source": [
    "X_train_tfidf, X_test_tfidf, y_train_tfidf, y_test_tfidf  = train_test_split(\n",
    "        features_nd, \n",
    "        data_labels,\n",
    "        train_size=0.80, \n",
    "        random_state=10)"
   ]
  },
  {
   "cell_type": "code",
   "execution_count": 112,
   "metadata": {},
   "outputs": [],
   "source": [
    "log_model_2 =  LogisticRegression()"
   ]
  },
  {
   "cell_type": "code",
   "execution_count": 113,
   "metadata": {},
   "outputs": [
    {
     "name": "stderr",
     "output_type": "stream",
     "text": [
      "c:\\Training\\Project_NLP\\project_env2\\lib\\site-packages\\sklearn\\linear_model\\_logistic.py:460: ConvergenceWarning: lbfgs failed to converge (status=1):\n",
      "STOP: TOTAL NO. of ITERATIONS REACHED LIMIT.\n",
      "\n",
      "Increase the number of iterations (max_iter) or scale the data as shown in:\n",
      "    https://scikit-learn.org/stable/modules/preprocessing.html\n",
      "Please also refer to the documentation for alternative solver options:\n",
      "    https://scikit-learn.org/stable/modules/linear_model.html#logistic-regression\n",
      "  n_iter_i = _check_optimize_result(\n"
     ]
    }
   ],
   "source": [
    "log_model_2 = log_model_2.fit(X_train_tfidf, y_train_tfidf)"
   ]
  },
  {
   "cell_type": "code",
   "execution_count": 114,
   "metadata": {},
   "outputs": [
    {
     "name": "stdout",
     "output_type": "stream",
     "text": [
      "0.6195965417867435\n"
     ]
    }
   ],
   "source": [
    "y_pred_tfidf = log_model_2.predict(X_test_tfidf)\n",
    "print(accuracy_score(y_test_tfidf, y_pred_tfidf))"
   ]
  },
  {
   "cell_type": "markdown",
   "metadata": {},
   "source": [
    "### Naive Bayes Model without Feature Engineering"
   ]
  },
  {
   "cell_type": "code",
   "execution_count": 115,
   "metadata": {},
   "outputs": [],
   "source": [
    "from sklearn.naive_bayes import MultinomialNB"
   ]
  },
  {
   "cell_type": "markdown",
   "metadata": {},
   "source": [
    "#### Using CountVectorizer"
   ]
  },
  {
   "cell_type": "code",
   "execution_count": 116,
   "metadata": {},
   "outputs": [
    {
     "data": {
      "text/html": [
       "<style>#sk-container-id-10 {color: black;}#sk-container-id-10 pre{padding: 0;}#sk-container-id-10 div.sk-toggleable {background-color: white;}#sk-container-id-10 label.sk-toggleable__label {cursor: pointer;display: block;width: 100%;margin-bottom: 0;padding: 0.3em;box-sizing: border-box;text-align: center;}#sk-container-id-10 label.sk-toggleable__label-arrow:before {content: \"▸\";float: left;margin-right: 0.25em;color: #696969;}#sk-container-id-10 label.sk-toggleable__label-arrow:hover:before {color: black;}#sk-container-id-10 div.sk-estimator:hover label.sk-toggleable__label-arrow:before {color: black;}#sk-container-id-10 div.sk-toggleable__content {max-height: 0;max-width: 0;overflow: hidden;text-align: left;background-color: #f0f8ff;}#sk-container-id-10 div.sk-toggleable__content pre {margin: 0.2em;color: black;border-radius: 0.25em;background-color: #f0f8ff;}#sk-container-id-10 input.sk-toggleable__control:checked~div.sk-toggleable__content {max-height: 200px;max-width: 100%;overflow: auto;}#sk-container-id-10 input.sk-toggleable__control:checked~label.sk-toggleable__label-arrow:before {content: \"▾\";}#sk-container-id-10 div.sk-estimator input.sk-toggleable__control:checked~label.sk-toggleable__label {background-color: #d4ebff;}#sk-container-id-10 div.sk-label input.sk-toggleable__control:checked~label.sk-toggleable__label {background-color: #d4ebff;}#sk-container-id-10 input.sk-hidden--visually {border: 0;clip: rect(1px 1px 1px 1px);clip: rect(1px, 1px, 1px, 1px);height: 1px;margin: -1px;overflow: hidden;padding: 0;position: absolute;width: 1px;}#sk-container-id-10 div.sk-estimator {font-family: monospace;background-color: #f0f8ff;border: 1px dotted black;border-radius: 0.25em;box-sizing: border-box;margin-bottom: 0.5em;}#sk-container-id-10 div.sk-estimator:hover {background-color: #d4ebff;}#sk-container-id-10 div.sk-parallel-item::after {content: \"\";width: 100%;border-bottom: 1px solid gray;flex-grow: 1;}#sk-container-id-10 div.sk-label:hover label.sk-toggleable__label {background-color: #d4ebff;}#sk-container-id-10 div.sk-serial::before {content: \"\";position: absolute;border-left: 1px solid gray;box-sizing: border-box;top: 0;bottom: 0;left: 50%;z-index: 0;}#sk-container-id-10 div.sk-serial {display: flex;flex-direction: column;align-items: center;background-color: white;padding-right: 0.2em;padding-left: 0.2em;position: relative;}#sk-container-id-10 div.sk-item {position: relative;z-index: 1;}#sk-container-id-10 div.sk-parallel {display: flex;align-items: stretch;justify-content: center;background-color: white;position: relative;}#sk-container-id-10 div.sk-item::before, #sk-container-id-10 div.sk-parallel-item::before {content: \"\";position: absolute;border-left: 1px solid gray;box-sizing: border-box;top: 0;bottom: 0;left: 50%;z-index: -1;}#sk-container-id-10 div.sk-parallel-item {display: flex;flex-direction: column;z-index: 1;position: relative;background-color: white;}#sk-container-id-10 div.sk-parallel-item:first-child::after {align-self: flex-end;width: 50%;}#sk-container-id-10 div.sk-parallel-item:last-child::after {align-self: flex-start;width: 50%;}#sk-container-id-10 div.sk-parallel-item:only-child::after {width: 0;}#sk-container-id-10 div.sk-dashed-wrapped {border: 1px dashed gray;margin: 0 0.4em 0.5em 0.4em;box-sizing: border-box;padding-bottom: 0.4em;background-color: white;}#sk-container-id-10 div.sk-label label {font-family: monospace;font-weight: bold;display: inline-block;line-height: 1.2em;}#sk-container-id-10 div.sk-label-container {text-align: center;}#sk-container-id-10 div.sk-container {/* jupyter's `normalize.less` sets `[hidden] { display: none; }` but bootstrap.min.css set `[hidden] { display: none !important; }` so we also need the `!important` here to be able to override the default hidden behavior on the sphinx rendered scikit-learn.org. See: https://github.com/scikit-learn/scikit-learn/issues/21755 */display: inline-block !important;position: relative;}#sk-container-id-10 div.sk-text-repr-fallback {display: none;}</style><div id=\"sk-container-id-10\" class=\"sk-top-container\"><div class=\"sk-text-repr-fallback\"><pre>MultinomialNB(force_alpha=True)</pre><b>In a Jupyter environment, please rerun this cell to show the HTML representation or trust the notebook. <br />On GitHub, the HTML representation is unable to render, please try loading this page with nbviewer.org.</b></div><div class=\"sk-container\" hidden><div class=\"sk-item\"><div class=\"sk-estimator sk-toggleable\"><input class=\"sk-toggleable__control sk-hidden--visually\" id=\"sk-estimator-id-10\" type=\"checkbox\" checked><label for=\"sk-estimator-id-10\" class=\"sk-toggleable__label sk-toggleable__label-arrow\">MultinomialNB</label><div class=\"sk-toggleable__content\"><pre>MultinomialNB(force_alpha=True)</pre></div></div></div></div></div>"
      ],
      "text/plain": [
       "MultinomialNB(force_alpha=True)"
      ]
     },
     "execution_count": 116,
     "metadata": {},
     "output_type": "execute_result"
    }
   ],
   "source": [
    "multinomialNB = MultinomialNB(force_alpha=True)\n",
    "\n",
    "multinomialNB.fit(X_train_cv, y_train_cv)"
   ]
  },
  {
   "cell_type": "code",
   "execution_count": 117,
   "metadata": {},
   "outputs": [
    {
     "name": "stdout",
     "output_type": "stream",
     "text": [
      "0.6042267050912584\n"
     ]
    }
   ],
   "source": [
    "y_pred_nb_cv = multinomialNB.predict(X_test_cv)\n",
    "print(accuracy_score(y_test_cv, y_pred_nb_cv))"
   ]
  },
  {
   "cell_type": "markdown",
   "metadata": {},
   "source": [
    "Using TF-IDF Vectorizer"
   ]
  },
  {
   "cell_type": "code",
   "execution_count": 118,
   "metadata": {},
   "outputs": [
    {
     "name": "stdout",
     "output_type": "stream",
     "text": [
      "0.6042267050912584\n"
     ]
    }
   ],
   "source": [
    "multinomialNB2 = MultinomialNB(force_alpha=True)\n",
    "\n",
    "multinomialNB2.fit(X_train_tfidf, y_train_tfidf)\n",
    "\n",
    "y_pred_nb_tfidf = multinomialNB2.predict(X_test_tfidf)\n",
    "print(accuracy_score(y_test_tfidf, y_pred_nb_tfidf))"
   ]
  },
  {
   "cell_type": "markdown",
   "metadata": {},
   "source": [
    "### Logistic Regression Models with Oversampling"
   ]
  },
  {
   "cell_type": "code",
   "execution_count": 119,
   "metadata": {},
   "outputs": [],
   "source": [
    "from imblearn.over_sampling import RandomOverSampler\n",
    "from collections import Counter"
   ]
  },
  {
   "cell_type": "code",
   "execution_count": 120,
   "metadata": {},
   "outputs": [
    {
     "name": "stdout",
     "output_type": "stream",
     "text": [
      "Counter({0: 2252, -1: 2252, 1: 2050})\n"
     ]
    }
   ],
   "source": [
    "oversample = RandomOverSampler(sampling_strategy='minority')\n",
    "\n",
    "X_over, y_over = oversample.fit_resample(features_nd, data_labels)\n",
    "print(Counter(y_over))"
   ]
  },
  {
   "cell_type": "code",
   "execution_count": 121,
   "metadata": {},
   "outputs": [],
   "source": [
    "X_train, X_test, y_train, y_test  = train_test_split(\n",
    "        X_over, \n",
    "        y_over,\n",
    "        train_size=0.80, \n",
    "        random_state=10)"
   ]
  },
  {
   "cell_type": "code",
   "execution_count": 122,
   "metadata": {},
   "outputs": [
    {
     "name": "stderr",
     "output_type": "stream",
     "text": [
      "c:\\Training\\Project_NLP\\project_env2\\lib\\site-packages\\sklearn\\linear_model\\_logistic.py:460: ConvergenceWarning: lbfgs failed to converge (status=1):\n",
      "STOP: TOTAL NO. of ITERATIONS REACHED LIMIT.\n",
      "\n",
      "Increase the number of iterations (max_iter) or scale the data as shown in:\n",
      "    https://scikit-learn.org/stable/modules/preprocessing.html\n",
      "Please also refer to the documentation for alternative solver options:\n",
      "    https://scikit-learn.org/stable/modules/linear_model.html#logistic-regression\n",
      "  n_iter_i = _check_optimize_result(\n"
     ]
    }
   ],
   "source": [
    "log_model_3 = LogisticRegression()\n",
    "log_model_3 = log_model_3.fit(X_train, y_train)"
   ]
  },
  {
   "cell_type": "code",
   "execution_count": 123,
   "metadata": {},
   "outputs": [
    {
     "name": "stdout",
     "output_type": "stream",
     "text": [
      "0.7391304347826086\n",
      "              precision    recall  f1-score   support\n",
      "\n",
      "          -1       0.78      0.90      0.84       462\n",
      "           0       0.68      0.70      0.69       436\n",
      "           1       0.75      0.60      0.66       413\n",
      "\n",
      "    accuracy                           0.74      1311\n",
      "   macro avg       0.74      0.73      0.73      1311\n",
      "weighted avg       0.74      0.74      0.73      1311\n",
      "\n"
     ]
    }
   ],
   "source": [
    "y_pred = log_model_3.predict(X_test)\n",
    "print(accuracy_score(y_test, y_pred))\n",
    "print(classification_report(y_test, y_pred))"
   ]
  },
  {
   "cell_type": "markdown",
   "metadata": {},
   "source": [
    "Lets apply GridSearch to get the best hyperparameter"
   ]
  },
  {
   "cell_type": "code",
   "execution_count": 124,
   "metadata": {},
   "outputs": [
    {
     "name": "stdout",
     "output_type": "stream",
     "text": [
      "Best parameters:  {'C': 3.727593720314938, 'max_iter': 40}\n"
     ]
    },
    {
     "name": "stderr",
     "output_type": "stream",
     "text": [
      "c:\\Training\\Project_NLP\\project_env2\\lib\\site-packages\\sklearn\\linear_model\\_logistic.py:460: ConvergenceWarning: lbfgs failed to converge (status=1):\n",
      "STOP: TOTAL NO. of ITERATIONS REACHED LIMIT.\n",
      "\n",
      "Increase the number of iterations (max_iter) or scale the data as shown in:\n",
      "    https://scikit-learn.org/stable/modules/preprocessing.html\n",
      "Please also refer to the documentation for alternative solver options:\n",
      "    https://scikit-learn.org/stable/modules/linear_model.html#logistic-regression\n",
      "  n_iter_i = _check_optimize_result(\n"
     ]
    }
   ],
   "source": [
    "from sklearn.model_selection import GridSearchCV\n",
    "\n",
    "parameters = {\n",
    "    'C': np.logspace(-5, 8, 15),\n",
    "    'max_iter': [1,2,3,4,5,10,20,30,40,50,60,70,80,90,100,110,120,130,140,150]\n",
    "}\n",
    "\n",
    "grid_search = LogisticRegression()\n",
    "\n",
    "grid_search = GridSearchCV(\n",
    "    grid_search,\n",
    "    parameters,\n",
    "    cv = 5,\n",
    "    scoring = 'accuracy',\n",
    "    n_jobs=-1\n",
    ")\n",
    "\n",
    "grid_result = grid_search.fit(X_train, y_train)\n",
    "\n",
    "print(\"Best parameters: \", grid_result.best_params_)"
   ]
  },
  {
   "cell_type": "code",
   "execution_count": 125,
   "metadata": {},
   "outputs": [
    {
     "name": "stderr",
     "output_type": "stream",
     "text": [
      "c:\\Training\\Project_NLP\\project_env2\\lib\\site-packages\\sklearn\\linear_model\\_logistic.py:460: ConvergenceWarning: lbfgs failed to converge (status=1):\n",
      "STOP: TOTAL NO. of ITERATIONS REACHED LIMIT.\n",
      "\n",
      "Increase the number of iterations (max_iter) or scale the data as shown in:\n",
      "    https://scikit-learn.org/stable/modules/preprocessing.html\n",
      "Please also refer to the documentation for alternative solver options:\n",
      "    https://scikit-learn.org/stable/modules/linear_model.html#logistic-regression\n",
      "  n_iter_i = _check_optimize_result(\n"
     ]
    },
    {
     "data": {
      "text/html": [
       "<style>#sk-container-id-11 {color: black;}#sk-container-id-11 pre{padding: 0;}#sk-container-id-11 div.sk-toggleable {background-color: white;}#sk-container-id-11 label.sk-toggleable__label {cursor: pointer;display: block;width: 100%;margin-bottom: 0;padding: 0.3em;box-sizing: border-box;text-align: center;}#sk-container-id-11 label.sk-toggleable__label-arrow:before {content: \"▸\";float: left;margin-right: 0.25em;color: #696969;}#sk-container-id-11 label.sk-toggleable__label-arrow:hover:before {color: black;}#sk-container-id-11 div.sk-estimator:hover label.sk-toggleable__label-arrow:before {color: black;}#sk-container-id-11 div.sk-toggleable__content {max-height: 0;max-width: 0;overflow: hidden;text-align: left;background-color: #f0f8ff;}#sk-container-id-11 div.sk-toggleable__content pre {margin: 0.2em;color: black;border-radius: 0.25em;background-color: #f0f8ff;}#sk-container-id-11 input.sk-toggleable__control:checked~div.sk-toggleable__content {max-height: 200px;max-width: 100%;overflow: auto;}#sk-container-id-11 input.sk-toggleable__control:checked~label.sk-toggleable__label-arrow:before {content: \"▾\";}#sk-container-id-11 div.sk-estimator input.sk-toggleable__control:checked~label.sk-toggleable__label {background-color: #d4ebff;}#sk-container-id-11 div.sk-label input.sk-toggleable__control:checked~label.sk-toggleable__label {background-color: #d4ebff;}#sk-container-id-11 input.sk-hidden--visually {border: 0;clip: rect(1px 1px 1px 1px);clip: rect(1px, 1px, 1px, 1px);height: 1px;margin: -1px;overflow: hidden;padding: 0;position: absolute;width: 1px;}#sk-container-id-11 div.sk-estimator {font-family: monospace;background-color: #f0f8ff;border: 1px dotted black;border-radius: 0.25em;box-sizing: border-box;margin-bottom: 0.5em;}#sk-container-id-11 div.sk-estimator:hover {background-color: #d4ebff;}#sk-container-id-11 div.sk-parallel-item::after {content: \"\";width: 100%;border-bottom: 1px solid gray;flex-grow: 1;}#sk-container-id-11 div.sk-label:hover label.sk-toggleable__label {background-color: #d4ebff;}#sk-container-id-11 div.sk-serial::before {content: \"\";position: absolute;border-left: 1px solid gray;box-sizing: border-box;top: 0;bottom: 0;left: 50%;z-index: 0;}#sk-container-id-11 div.sk-serial {display: flex;flex-direction: column;align-items: center;background-color: white;padding-right: 0.2em;padding-left: 0.2em;position: relative;}#sk-container-id-11 div.sk-item {position: relative;z-index: 1;}#sk-container-id-11 div.sk-parallel {display: flex;align-items: stretch;justify-content: center;background-color: white;position: relative;}#sk-container-id-11 div.sk-item::before, #sk-container-id-11 div.sk-parallel-item::before {content: \"\";position: absolute;border-left: 1px solid gray;box-sizing: border-box;top: 0;bottom: 0;left: 50%;z-index: -1;}#sk-container-id-11 div.sk-parallel-item {display: flex;flex-direction: column;z-index: 1;position: relative;background-color: white;}#sk-container-id-11 div.sk-parallel-item:first-child::after {align-self: flex-end;width: 50%;}#sk-container-id-11 div.sk-parallel-item:last-child::after {align-self: flex-start;width: 50%;}#sk-container-id-11 div.sk-parallel-item:only-child::after {width: 0;}#sk-container-id-11 div.sk-dashed-wrapped {border: 1px dashed gray;margin: 0 0.4em 0.5em 0.4em;box-sizing: border-box;padding-bottom: 0.4em;background-color: white;}#sk-container-id-11 div.sk-label label {font-family: monospace;font-weight: bold;display: inline-block;line-height: 1.2em;}#sk-container-id-11 div.sk-label-container {text-align: center;}#sk-container-id-11 div.sk-container {/* jupyter's `normalize.less` sets `[hidden] { display: none; }` but bootstrap.min.css set `[hidden] { display: none !important; }` so we also need the `!important` here to be able to override the default hidden behavior on the sphinx rendered scikit-learn.org. See: https://github.com/scikit-learn/scikit-learn/issues/21755 */display: inline-block !important;position: relative;}#sk-container-id-11 div.sk-text-repr-fallback {display: none;}</style><div id=\"sk-container-id-11\" class=\"sk-top-container\"><div class=\"sk-text-repr-fallback\"><pre>LogisticRegression(C=3.727593720314938, max_iter=40)</pre><b>In a Jupyter environment, please rerun this cell to show the HTML representation or trust the notebook. <br />On GitHub, the HTML representation is unable to render, please try loading this page with nbviewer.org.</b></div><div class=\"sk-container\" hidden><div class=\"sk-item\"><div class=\"sk-estimator sk-toggleable\"><input class=\"sk-toggleable__control sk-hidden--visually\" id=\"sk-estimator-id-11\" type=\"checkbox\" checked><label for=\"sk-estimator-id-11\" class=\"sk-toggleable__label sk-toggleable__label-arrow\">LogisticRegression</label><div class=\"sk-toggleable__content\"><pre>LogisticRegression(C=3.727593720314938, max_iter=40)</pre></div></div></div></div></div>"
      ],
      "text/plain": [
       "LogisticRegression(C=3.727593720314938, max_iter=40)"
      ]
     },
     "execution_count": 125,
     "metadata": {},
     "output_type": "execute_result"
    }
   ],
   "source": [
    "log_model_4 = LogisticRegression(C = 3.727593720314938, max_iter=40)\n",
    "log_model_4.fit(X_train, y_train)"
   ]
  },
  {
   "cell_type": "code",
   "execution_count": 126,
   "metadata": {},
   "outputs": [
    {
     "name": "stdout",
     "output_type": "stream",
     "text": [
      "0.7429443173150267\n",
      "              precision    recall  f1-score   support\n",
      "\n",
      "          -1       0.79      0.92      0.85       462\n",
      "           0       0.70      0.67      0.68       436\n",
      "           1       0.73      0.61      0.67       413\n",
      "\n",
      "    accuracy                           0.74      1311\n",
      "   macro avg       0.74      0.74      0.73      1311\n",
      "weighted avg       0.74      0.74      0.74      1311\n",
      "\n"
     ]
    }
   ],
   "source": [
    "y_pred = log_model_4.predict(X_test)\n",
    "print(accuracy_score(y_test, y_pred))\n",
    "print(classification_report(y_test, y_pred))"
   ]
  },
  {
   "cell_type": "markdown",
   "metadata": {},
   "source": [
    "### Models using stopwords removed sentence"
   ]
  },
  {
   "cell_type": "code",
   "execution_count": 157,
   "metadata": {},
   "outputs": [
    {
     "data": {
      "text/html": [
       "<div>\n",
       "<style scoped>\n",
       "    .dataframe tbody tr th:only-of-type {\n",
       "        vertical-align: middle;\n",
       "    }\n",
       "\n",
       "    .dataframe tbody tr th {\n",
       "        vertical-align: top;\n",
       "    }\n",
       "\n",
       "    .dataframe thead th {\n",
       "        text-align: right;\n",
       "    }\n",
       "</style>\n",
       "<table border=\"1\" class=\"dataframe\">\n",
       "  <thead>\n",
       "    <tr style=\"text-align: right;\">\n",
       "      <th></th>\n",
       "      <th>sentiment</th>\n",
       "      <th>stopwords_remove_sentence</th>\n",
       "    </tr>\n",
       "  </thead>\n",
       "  <tbody>\n",
       "    <tr>\n",
       "      <th>0</th>\n",
       "      <td>0</td>\n",
       "      <td>Won match getin tomorrow very busy Awareness a...</td>\n",
       "    </tr>\n",
       "    <tr>\n",
       "      <th>1</th>\n",
       "      <td>0</td>\n",
       "      <td>Some areas New England could see first flakes ...</td>\n",
       "    </tr>\n",
       "    <tr>\n",
       "      <th>2</th>\n",
       "      <td>-1</td>\n",
       "      <td>2nd worst QB DEFINITELY Tony Romo man likes sh...</td>\n",
       "    </tr>\n",
       "    <tr>\n",
       "      <th>3</th>\n",
       "      <td>0</td>\n",
       "      <td>Thailand Washington US President Barack Obama ...</td>\n",
       "    </tr>\n",
       "    <tr>\n",
       "      <th>4</th>\n",
       "      <td>0</td>\n",
       "      <td>Did hear Tony Romo dressed up Halloween Giants...</td>\n",
       "    </tr>\n",
       "  </tbody>\n",
       "</table>\n",
       "</div>"
      ],
      "text/plain": [
       "  sentiment                          stopwords_remove_sentence\n",
       "0         0  Won match getin tomorrow very busy Awareness a...\n",
       "1         0  Some areas New England could see first flakes ...\n",
       "2        -1  2nd worst QB DEFINITELY Tony Romo man likes sh...\n",
       "3         0  Thailand Washington US President Barack Obama ...\n",
       "4         0  Did hear Tony Romo dressed up Halloween Giants..."
      ]
     },
     "execution_count": 157,
     "metadata": {},
     "output_type": "execute_result"
    }
   ],
   "source": [
    "data_mod = data_df[[\"sentiment\", \"stopwords_remove_sentence\"]]\n",
    "data_mod.head()"
   ]
  },
  {
   "cell_type": "code",
   "execution_count": 158,
   "metadata": {},
   "outputs": [],
   "source": [
    "vectorizer_count = CountVectorizer(\n",
    "    analyzer = 'word',\n",
    "    lowercase = False,\n",
    "    min_df = 3\n",
    ")\n",
    "\n",
    "features_sr = vectorizer_count.fit_transform(\n",
    "    data_mod[\"stopwords_remove_sentence\"]\n",
    ")\n",
    "\n",
    "features_sr_nd = features.toarray()"
   ]
  },
  {
   "cell_type": "code",
   "execution_count": 159,
   "metadata": {},
   "outputs": [],
   "source": [
    "data_labels = []\n",
    "for i in data_mod[\"sentiment\"]:\n",
    "    data_labels.append(i)"
   ]
  },
  {
   "cell_type": "code",
   "execution_count": 160,
   "metadata": {},
   "outputs": [
    {
     "name": "stdout",
     "output_type": "stream",
     "text": [
      "Counter({0: 2252, -1: 2252, 1: 2050})\n"
     ]
    }
   ],
   "source": [
    "oversample_sr = RandomOverSampler(sampling_strategy='minority')\n",
    "\n",
    "X_over_sr, y_over_sr = oversample.fit_resample(features_sr_nd, data_labels)\n",
    "print(Counter(y_over_sr))"
   ]
  },
  {
   "cell_type": "code",
   "execution_count": 161,
   "metadata": {},
   "outputs": [],
   "source": [
    "X_train_sr, X_test_sr, y_train_sr, y_test_sr  = train_test_split(\n",
    "        X_over_sr, \n",
    "        y_over_sr,\n",
    "        train_size=0.80, \n",
    "        random_state=10)"
   ]
  },
  {
   "cell_type": "code",
   "execution_count": 162,
   "metadata": {},
   "outputs": [
    {
     "name": "stderr",
     "output_type": "stream",
     "text": [
      "c:\\Training\\Project_NLP\\project_env2\\lib\\site-packages\\sklearn\\linear_model\\_logistic.py:460: ConvergenceWarning: lbfgs failed to converge (status=1):\n",
      "STOP: TOTAL NO. of ITERATIONS REACHED LIMIT.\n",
      "\n",
      "Increase the number of iterations (max_iter) or scale the data as shown in:\n",
      "    https://scikit-learn.org/stable/modules/preprocessing.html\n",
      "Please also refer to the documentation for alternative solver options:\n",
      "    https://scikit-learn.org/stable/modules/linear_model.html#logistic-regression\n",
      "  n_iter_i = _check_optimize_result(\n"
     ]
    }
   ],
   "source": [
    "log_model_5 = LogisticRegression(C = 3.727593720314938, max_iter=40)\n",
    "log_model_5 = log_model_5.fit(X_train_sr, y_train_sr)"
   ]
  },
  {
   "cell_type": "code",
   "execution_count": 163,
   "metadata": {},
   "outputs": [
    {
     "name": "stdout",
     "output_type": "stream",
     "text": [
      "0.7376048817696415\n",
      "              precision    recall  f1-score   support\n",
      "\n",
      "          -1       0.79      0.91      0.85       462\n",
      "           0       0.68      0.68      0.68       436\n",
      "           1       0.72      0.61      0.66       413\n",
      "\n",
      "    accuracy                           0.74      1311\n",
      "   macro avg       0.73      0.73      0.73      1311\n",
      "weighted avg       0.73      0.74      0.73      1311\n",
      "\n"
     ]
    }
   ],
   "source": [
    "y_pred = log_model_5.predict(X_test_sr)\n",
    "print(accuracy_score(y_test_sr, y_pred))\n",
    "print(classification_report(y_test_sr, y_pred))"
   ]
  },
  {
   "cell_type": "code",
   "execution_count": null,
   "metadata": {},
   "outputs": [],
   "source": []
  },
  {
   "cell_type": "code",
   "execution_count": null,
   "metadata": {},
   "outputs": [],
   "source": []
  },
  {
   "cell_type": "code",
   "execution_count": null,
   "metadata": {},
   "outputs": [],
   "source": []
  },
  {
   "cell_type": "code",
   "execution_count": 142,
   "metadata": {},
   "outputs": [],
   "source": [
    "import joblib"
   ]
  },
  {
   "cell_type": "code",
   "execution_count": 164,
   "metadata": {},
   "outputs": [
    {
     "data": {
      "text/plain": [
       "['nlp_project/models/log_reg_oversampling_ht_sr.joblib']"
      ]
     },
     "execution_count": 164,
     "metadata": {},
     "output_type": "execute_result"
    }
   ],
   "source": [
    "model_filename = \"log_reg_oversampling_ht_sr.joblib\"\n",
    "# vectorizer_filename = \"tfidf_vectorizer.joblib\"\n",
    "joblib.dump(log_model_4, \"nlp_project/models/\" + model_filename)\n",
    "# joblib.dump(vectorizer_tfidf, \"nlp_project/models/\" + vectorizer_filename)"
   ]
  },
  {
   "cell_type": "code",
   "execution_count": 154,
   "metadata": {},
   "outputs": [
    {
     "name": "stdout",
     "output_type": "stream",
     "text": [
      "1\n",
      "-1\n"
     ]
    }
   ],
   "source": [
    "# print(log_model_3.predict(vectorizer_tfidf.transform(nltk.word_tokenize(\"I'm not happy\")).toarray()))\n",
    "# print(log_model_3.predict(vectorizer_tfidf.transform(\"I am happy\")))\n",
    "\n",
    "test_pred = log_model_4.predict(vectorizer_count.transform([\"I am very\"]).toarray())\n",
    "print(test_pred[0])\n",
    "print(y_pred[0])"
   ]
  },
  {
   "cell_type": "code",
   "execution_count": 156,
   "metadata": {},
   "outputs": [
    {
     "data": {
      "text/plain": [
       "numpy.ndarray"
      ]
     },
     "execution_count": 156,
     "metadata": {},
     "output_type": "execute_result"
    }
   ],
   "source": [
    "type(vectorizer_count.transform([\"Congratulations on your win\"]).toarray())"
   ]
  },
  {
   "cell_type": "code",
   "execution_count": 128,
   "metadata": {},
   "outputs": [],
   "source": [
    "# print(X_test[0])\n",
    "# print(vectorizer_tfidf.transform(nltk.word_tokenize(\"I'm not happy\")).toarray())"
   ]
  },
  {
   "cell_type": "code",
   "execution_count": 129,
   "metadata": {},
   "outputs": [],
   "source": [
    "# print(data_df[\"stemmed_sentence\"].where(data_df[\"sentiment\"] > 0).dropna())\n",
    "# print(data_df)"
   ]
  },
  {
   "cell_type": "code",
   "execution_count": null,
   "metadata": {},
   "outputs": [],
   "source": []
  }
 ],
 "metadata": {
  "kernelspec": {
   "display_name": "project_env",
   "language": "python",
   "name": "python3"
  },
  "language_info": {
   "codemirror_mode": {
    "name": "ipython",
    "version": 3
   },
   "file_extension": ".py",
   "mimetype": "text/x-python",
   "name": "python",
   "nbconvert_exporter": "python",
   "pygments_lexer": "ipython3",
   "version": "3.9.13"
  },
  "orig_nbformat": 4
 },
 "nbformat": 4,
 "nbformat_minor": 2
}
